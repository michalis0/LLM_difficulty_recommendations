{
 "cells": [
  {
   "cell_type": "markdown",
   "metadata": {},
   "source": [
    "# Models\n",
    "\n",
    "This notebook is used to train and evaluate the various models tested for difficulty."
   ]
  },
  {
   "cell_type": "code",
   "execution_count": 1,
   "metadata": {},
   "outputs": [],
   "source": [
    "# --------------------------------- VARIABLES -------------------------------- #\n",
    "DATASET_TO_TRAIN = [\"french_difficulty\", \"sentences\", \"ljl\"]\n",
    "CONTEXT_TO_TRY = [\"empty\", \"CECRL\"]\n",
    "MODEL_TO_TRAIN = [\"gpt-3.5-turbo-1106\"]"
   ]
  },
  {
   "cell_type": "code",
   "execution_count": 2,
   "metadata": {},
   "outputs": [],
   "source": [
    "# ---------------------------- PREPARING NOTEBOOK ---------------------------- #\n",
    "# Autoreload\n",
    "%load_ext autoreload\n",
    "%autoreload 2\n",
    "\n",
    "# Random seed\n",
    "import numpy as np\n",
    "np.random.seed(42)\n",
    "\n",
    "# External modules\n",
    "import os\n",
    "from IPython.display import display, Markdown, Latex, clear_output\n",
    "from tqdm import notebook as tqdm\n",
    "\n",
    "# Set global log level\n",
    "import logging\n",
    "logging.basicConfig(level=logging.INFO)\n",
    "os.environ['TOKENIZERS_PARALLELISM'] = 'false'\n",
    "\n",
    "# Define PWD as the current git repository\n",
    "import git\n",
    "repo = git.Repo('.', search_parent_directories=True)\n",
    "pwd = repo.working_dir\n",
    "os.chdir(pwd)"
   ]
  },
  {
   "cell_type": "markdown",
   "metadata": {},
   "source": [
    "## Creating the datasets"
   ]
  },
  {
   "cell_type": "code",
   "execution_count": 3,
   "metadata": {},
   "outputs": [
    {
     "name": "stderr",
     "output_type": "stream",
     "text": [
      "INFO:DataManager:Initializing data manager...\n"
     ]
    },
    {
     "name": "stdout",
     "output_type": "stream",
     "text": [
      "Token will not been saved to git credential helper. Pass `add_to_git_credential=True` if you want to set the git credential as well.\n"
     ]
    }
   ],
   "source": [
    "from src.DataManager import DataManager\n",
    "\n",
    "data_manager = DataManager()\n",
    "\n",
    "for dataset in DATASET_TO_TRAIN:\n",
    "    for context in CONTEXT_TO_TRY:\n",
    "        for model in MODEL_TO_TRAIN:\n",
    "            data_manager.get_data_ready_for_fine_tuning(\n",
    "                dataset=dataset, type_set=\"train\", context=context, model_name=model\n",
    "            )\n",
    "            data_manager.get_data_ready_for_fine_tuning(\n",
    "                dataset=dataset, type_set=\"test\", context=context, model_name=model\n",
    "            )"
   ]
  },
  {
   "cell_type": "markdown",
   "metadata": {},
   "source": [
    "## Training the models"
   ]
  },
  {
   "cell_type": "code",
   "execution_count": 4,
   "metadata": {},
   "outputs": [
    {
     "name": "stderr",
     "output_type": "stream",
     "text": [
      "INFO:DifficultyEstimationModel:Initializing model gpt-3.5-turbo-1106...\n",
      "INFO:DifficultyEstimationModel:Waiting for file to be processed...\n",
      "INFO:DifficultyEstimationModel:File processed ! Starting fine tuning...\n",
      "INFO:DifficultyEstimationModel:Fine tuning finished ! Saving model...\n",
      "INFO:DifficultyEstimationModel:Loaded trained_models.csv.\n",
      "INFO:DifficultyEstimationModel:Model saved !\n",
      "INFO:DifficultyEstimationModel:Initializing model gpt-3.5-turbo-1106...\n",
      "INFO:DifficultyEstimationModel:Waiting for file to be processed...\n",
      "INFO:DifficultyEstimationModel:File processed ! Starting fine tuning...\n",
      "INFO:DifficultyEstimationModel:Fine tuning finished ! Saving model...\n",
      "INFO:DifficultyEstimationModel:Loaded trained_models.csv.\n",
      "INFO:DifficultyEstimationModel:Model saved !\n",
      "INFO:DifficultyEstimationModel:Initializing model gpt-3.5-turbo-1106...\n",
      "INFO:DifficultyEstimationModel:Waiting for file to be processed...\n",
      "INFO:DifficultyEstimationModel:File processed ! Starting fine tuning...\n",
      "INFO:DifficultyEstimationModel:Fine tuning finished ! Saving model...\n",
      "INFO:DifficultyEstimationModel:Loaded trained_models.csv.\n",
      "INFO:DifficultyEstimationModel:Model saved !\n",
      "INFO:DifficultyEstimationModel:Initializing model gpt-3.5-turbo-1106...\n",
      "INFO:DifficultyEstimationModel:Waiting for file to be processed...\n",
      "INFO:DifficultyEstimationModel:File processed ! Starting fine tuning...\n",
      "INFO:DifficultyEstimationModel:Fine tuning finished ! Saving model...\n",
      "INFO:DifficultyEstimationModel:Loaded trained_models.csv.\n",
      "INFO:DifficultyEstimationModel:Model saved !\n",
      "INFO:DifficultyEstimationModel:Initializing model gpt-3.5-turbo-1106...\n",
      "INFO:DifficultyEstimationModel:Waiting for file to be processed...\n",
      "INFO:DifficultyEstimationModel:File processed ! Starting fine tuning...\n",
      "INFO:DifficultyEstimationModel:Fine tuning finished ! Saving model...\n",
      "INFO:DifficultyEstimationModel:Loaded trained_models.csv.\n",
      "INFO:DifficultyEstimationModel:Model saved !\n",
      "INFO:DifficultyEstimationModel:Initializing model gpt-3.5-turbo-1106...\n",
      "INFO:DifficultyEstimationModel:Waiting for file to be processed...\n",
      "INFO:DifficultyEstimationModel:File processed ! Starting fine tuning...\n",
      "INFO:DifficultyEstimationModel:Fine tuning finished ! Saving model...\n",
      "INFO:DifficultyEstimationModel:Loaded trained_models.csv.\n",
      "INFO:DifficultyEstimationModel:Model saved !\n"
     ]
    }
   ],
   "source": [
    "from src.DifficultyEstimationModel import DifficultyEstimationModel\n",
    "\n",
    "model_dict = {}\n",
    "\n",
    "for dataset in DATASET_TO_TRAIN:\n",
    "    for context in CONTEXT_TO_TRY:\n",
    "        for model_name in MODEL_TO_TRAIN:\n",
    "            model = DifficultyEstimationModel(model=model_name)\n",
    "            model.fine_tune(\n",
    "                f\"train_{dataset}_{context}_{model_name}_prepared_for_fine_tuning\"\n",
    "            )\n",
    "            model_dict[f\"{dataset}_{context}\"] = model"
   ]
  }
 ],
 "metadata": {
  "kernelspec": {
   "display_name": ".venv",
   "language": "python",
   "name": "python3"
  },
  "language_info": {
   "codemirror_mode": {
    "name": "ipython",
    "version": 3
   },
   "file_extension": ".py",
   "mimetype": "text/x-python",
   "name": "python",
   "nbconvert_exporter": "python",
   "pygments_lexer": "ipython3",
   "version": "3.9.13"
  },
  "orig_nbformat": 4
 },
 "nbformat": 4,
 "nbformat_minor": 2
}
