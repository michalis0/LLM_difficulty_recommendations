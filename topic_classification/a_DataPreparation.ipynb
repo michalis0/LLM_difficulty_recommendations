{
 "cells": [
  {
   "cell_type": "markdown",
   "metadata": {},
   "source": [
    "# Topic Classification\n",
    "\n",
    "The purpose of this notebook is to create a dataset from the **Zeeguu** data and to create functions for evaluating our models."
   ]
  },
  {
   "cell_type": "code",
   "execution_count": 1,
   "metadata": {},
   "outputs": [],
   "source": [
    "# ---------------------------- PREPARING NOTEBOOK ---------------------------- #\n",
    "# Autoreload\n",
    "%load_ext autoreload\n",
    "%autoreload 2\n",
    "\n",
    "# Random seed\n",
    "import numpy as np\n",
    "np.random.seed(42)\n",
    "\n",
    "# External modules\n",
    "import os\n",
    "from IPython.display import display, Markdown, Latex, clear_output\n",
    "from tqdm import notebook as tqdm\n",
    "\n",
    "# Set global log level\n",
    "import logging\n",
    "logging.basicConfig(level=logging.INFO)\n",
    "\n",
    "# Define PWD as the current git repository\n",
    "import git\n",
    "repo = git.Repo('.', search_parent_directories=True)\n",
    "pwd = repo.working_dir\n",
    "os.chdir(pwd)"
   ]
  },
  {
   "cell_type": "markdown",
   "metadata": {},
   "source": [
    "## Dataset Creation\n",
    "\n",
    "*The purpose of this dataset is to generate templates that can be used to assign one or more themes to each article.*\n",
    "\n",
    "The dataset is created from **Zeeguu** data. It is made up of 2 columns:\n",
    "- **text**: the text of the article\n",
    "- **labels**: labels associated with the article"
   ]
  },
  {
   "cell_type": "code",
   "execution_count": 2,
   "metadata": {},
   "outputs": [
    {
     "name": "stderr",
     "output_type": "stream",
     "text": [
      "/tmp/ipykernel_2801/3109538886.py:16: DtypeWarning: Columns (6) have mixed types. Specify dtype option on import or set low_memory=False.\n",
      "  article = pd.read_csv(os.path.join(zeeguu_data_path, csv_to_load[2]))\n"
     ]
    },
    {
     "data": {
      "text/html": [
       "<div>\n",
       "<style scoped>\n",
       "    .dataframe tbody tr th:only-of-type {\n",
       "        vertical-align: middle;\n",
       "    }\n",
       "\n",
       "    .dataframe tbody tr th {\n",
       "        vertical-align: top;\n",
       "    }\n",
       "\n",
       "    .dataframe thead th {\n",
       "        text-align: right;\n",
       "    }\n",
       "</style>\n",
       "<table border=\"1\" class=\"dataframe\">\n",
       "  <thead>\n",
       "    <tr style=\"text-align: right;\">\n",
       "      <th></th>\n",
       "      <th>text</th>\n",
       "      <th>topic</th>\n",
       "    </tr>\n",
       "  </thead>\n",
       "  <tbody>\n",
       "    <tr>\n",
       "      <th>0</th>\n",
       "      <td>La France, championne de hand !\\n\\nb\"franceinf...</td>\n",
       "      <td>Sport</td>\n",
       "    </tr>\n",
       "    <tr>\n",
       "      <th>1</th>\n",
       "      <td>Des enfants ont fait une course de chiens de t...</td>\n",
       "      <td>Sport</td>\n",
       "    </tr>\n",
       "    <tr>\n",
       "      <th>2</th>\n",
       "      <td>C’est quoi, le rallye Dakar ?\\n\\nb\"Parce que l...</td>\n",
       "      <td>Sport</td>\n",
       "    </tr>\n",
       "    <tr>\n",
       "      <th>3</th>\n",
       "      <td>Grande-Bretagne: l'ex-entraîneur Barry Bennell...</td>\n",
       "      <td>Sport</td>\n",
       "    </tr>\n",
       "    <tr>\n",
       "      <th>4</th>\n",
       "      <td>Défi de Monte-Cristo : une course en mer à la ...</td>\n",
       "      <td>Sport</td>\n",
       "    </tr>\n",
       "  </tbody>\n",
       "</table>\n",
       "</div>"
      ],
      "text/plain": [
       "                                                text  topic\n",
       "0  La France, championne de hand !\\n\\nb\"franceinf...  Sport\n",
       "1  Des enfants ont fait une course de chiens de t...  Sport\n",
       "2  C’est quoi, le rallye Dakar ?\\n\\nb\"Parce que l...  Sport\n",
       "3  Grande-Bretagne: l'ex-entraîneur Barry Bennell...  Sport\n",
       "4  Défi de Monte-Cristo : une course en mer à la ...  Sport"
      ]
     },
     "metadata": {},
     "output_type": "display_data"
    }
   ],
   "source": [
    "# ---------------------------- CREATING DATAFRAME ---------------------------- #\n",
    "import pandas as pd\n",
    "from sklearn.model_selection import train_test_split\n",
    "\n",
    "zeeguu_data_path = os.path.join(\n",
    "    pwd,\n",
    "    \"data\",\n",
    "    \"processed\",\n",
    "    \"recommendation\",\n",
    ")\n",
    "csv_to_load = [\"article_topic_map.csv\", \"topic.csv\", \"article.csv\"]\n",
    "\n",
    "# Load data\n",
    "article_topic_map = pd.read_csv(os.path.join(zeeguu_data_path, csv_to_load[0]))\n",
    "topic = pd.read_csv(os.path.join(zeeguu_data_path, csv_to_load[1]))\n",
    "article = pd.read_csv(os.path.join(zeeguu_data_path, csv_to_load[2]))\n",
    "\n",
    "# Keep only french articles\n",
    "article = article[article[\"language_id\"] == 7]\n",
    "\n",
    "# Create DataFrame\n",
    "df = pd.merge(\n",
    "    article[[\"id\", \"title\", \"content\"]],\n",
    "    article_topic_map,\n",
    "    left_on=\"id\",\n",
    "    right_on=\"article_id\",\n",
    ")\n",
    "df = pd.merge(df, topic, left_on=\"topic_id\", right_on=\"id\")\n",
    "df = df[[\"title_x\", \"content\", \"title_y\"]].rename(\n",
    "    columns={\"title_x\": \"title\", \"title_y\": \"topic\"}\n",
    ")\n",
    "df[\"text\"] = df[\"title\"] + \"\\n\\n\" + df[\"content\"]\n",
    "df = df[[\"text\", \"topic\"]]\n",
    "\n",
    "# Display\n",
    "display(df.head())\n",
    "\n",
    "# Split Train/Test\n",
    "df_train, df_test = train_test_split(df, test_size=0.2, random_state=42)\n",
    "\n",
    "# Save\n",
    "## Create folder if it does not exist\n",
    "output_folder = os.path.join(pwd, \"results\", \"topic_classification\", \"DataPreparation\")\n",
    "if not os.path.exists(output_folder):\n",
    "    os.makedirs(output_folder)\n",
    "## Save\n",
    "df_train.to_csv(os.path.join(output_folder, \"train.csv\"), index=False)\n",
    "df_test.to_csv(os.path.join(output_folder, \"test.csv\"), index=False)"
   ]
  },
  {
   "cell_type": "markdown",
   "metadata": {},
   "source": [
    "## Creation of the evaluation function\n",
    "\n",
    "Now that we have a training and test set, we can create an evaluation function that will allow us to compare the performance of our models."
   ]
  },
  {
   "cell_type": "code",
   "execution_count": 3,
   "metadata": {},
   "outputs": [],
   "source": [
    "# modcell\n",
    "from sklearn.metrics import (\n",
    "    accuracy_score,\n",
    "    recall_score,\n",
    "    precision_score,\n",
    "    f1_score,\n",
    "    confusion_matrix,\n",
    ")\n",
    "import pandas as pd\n",
    "import numpy as np\n",
    "\n",
    "\n",
    "def compute_metrics(y_pred: pd.Series, y_real: pd.Series):\n",
    "    accuracy = accuracy_score(y_real, y_pred)\n",
    "    recall = recall_score(y_real, y_pred, average=\"weighted\")\n",
    "    precision = precision_score(y_real, y_pred, average=\"weighted\")\n",
    "    f1 = f1_score(y_real, y_pred, average=\"weighted\")\n",
    "    conf_matrix = confusion_matrix(y_real, y_pred)\n",
    "\n",
    "    # Normalize confusion matrix\n",
    "    conf_matrix = conf_matrix.astype(\"float\") / conf_matrix.sum(axis=1)[:, np.newaxis]\n",
    "\n",
    "    metrics = pd.Series(\n",
    "        {\n",
    "            \"accuracy\": accuracy,\n",
    "            \"recall\": recall,\n",
    "            \"precision\": precision,\n",
    "            \"f1_score\": f1,\n",
    "            \"confusion_matrix\": conf_matrix,\n",
    "        }\n",
    "    )\n",
    "\n",
    "    return metrics"
   ]
  },
  {
   "cell_type": "code",
   "execution_count": null,
   "metadata": {},
   "outputs": [],
   "source": []
  }
 ],
 "metadata": {
  "kernelspec": {
   "display_name": ".venv",
   "language": "python",
   "name": "python3"
  },
  "language_info": {
   "codemirror_mode": {
    "name": "ipython",
    "version": 3
   },
   "file_extension": ".py",
   "mimetype": "text/x-python",
   "name": "python",
   "nbconvert_exporter": "python",
   "pygments_lexer": "ipython3",
   "version": "3.9.13"
  }
 },
 "nbformat": 4,
 "nbformat_minor": 2
}
